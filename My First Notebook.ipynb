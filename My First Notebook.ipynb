{
 "cells": [
  {
   "cell_type": "markdown",
   "id": "7d91b16b-0e53-496c-b51d-a13abb1a7962",
   "metadata": {},
   "source": [
    "# My Jupyter Notebook"
   ]
  },
  {
   "cell_type": "markdown",
   "id": "7ebe919a-15a1-4dcb-9ca9-4800363073fc",
   "metadata": {},
   "source": [
    "__Jairo Flores__ <br>\n",
    "Water/Environmental Scientist"
   ]
  },
  {
   "cell_type": "markdown",
   "id": "3a765d75-3a84-4b93-ac17-da79fceec2e4",
   "metadata": {},
   "source": [
    "_I am interested in using conceepts in machine learning, AI, and data science to solve problems in the environmental space._"
   ]
  },
  {
   "cell_type": "markdown",
   "id": "e927d8ff-0dca-435a-9858-0df5e999284b",
   "metadata": {},
   "source": [
    "### The code in cell 5 prints the name of my wife. "
   ]
  },
  {
   "cell_type": "code",
   "execution_count": 4,
   "id": "b7554774-6f75-443d-9b59-d48cf6930966",
   "metadata": {
    "tags": []
   },
   "outputs": [
    {
     "name": "stdout",
     "output_type": "stream",
     "text": [
      "Alice\n"
     ]
    }
   ],
   "source": [
    "print (\"Alice\")"
   ]
  },
  {
   "attachments": {
    "724d4770-db5e-4e9e-9044-ba7b9077beed.jpg": {
     "image/jpeg": "[encoded data removed]"
    }
   },
   "cell_type": "markdown",
   "id": "2ea6d47a-5709-463b-99ba-74c80da9f5ce",
   "metadata": {},
   "source": [
    "This sentence is an example of the horizontal rule,\n",
    "***\n",
    "* A bulleted list \n",
    "    * sub bullet\n",
    "    \n",
    "1. A numbered list\n",
    "    1. sub number\n",
    "    \n",
    "A hyperlink __(https://www.linkedin.com/in/jairo-flores-6a2672199)__ <br>\n",
    "\n",
    "\n",
    "\n",
    "An Image ![download.jpg](attachment:724d4770-db5e-4e9e-9044-ba7b9077beed.jpg)\n",
    "\n"
   ]
  },
  {
   "cell_type": "code",
   "execution_count": null,
   "id": "14b48ef1-9068-461e-892a-10795ed4fd7b",
   "metadata": {},
   "outputs": [],
   "source": []
  },
  {
   "cell_type": "code",
   "execution_count": null,
   "id": "09b4daf4-aade-4123-8260-29802359dc62",
   "metadata": {},
   "outputs": [],
   "source": []
  }
 ],
 "metadata": {
  "kernelspec": {
   "display_name": "Python 3 (ipykernel)",
   "language": "python",
   "name": "python3"
  },
  "language_info": {
   "codemirror_mode": {
    "name": "ipython",
    "version": 3
   },
   "file_extension": ".py",
   "mimetype": "text/x-python",
   "name": "python",
   "nbconvert_exporter": "python",
   "pygments_lexer": "ipython3",
   "version": "3.11.2"
  }
 },
 "nbformat": 4,
 "nbformat_minor": 5
}
