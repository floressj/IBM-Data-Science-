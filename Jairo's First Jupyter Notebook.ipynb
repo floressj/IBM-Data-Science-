{
 "cells": [
  {
   "cell_type": "markdown",
   "id": "1a622337-543f-4167-98ba-c524ceab7a18",
   "metadata": {},
   "source": [
    "# Top Programming languages for Data Science"
   ]
  },
  {
   "cell_type": "markdown",
   "id": "73ef43fb-59e7-4bc8-b0dd-bd1b2cf77404",
   "metadata": {},
   "source": [
    "* Python\n",
    "* R.\n",
    "* SQL.\n",
    "* Java.\n",
    "* Julia.\n",
    "* Scala.\n",
    "* C/C++\n",
    "* JavaScript"
   ]
  },
  {
   "cell_type": "markdown",
   "id": "0dc18ad0-d27c-407a-80f3-bd009d24c079",
   "metadata": {},
   "source": [
    " ## Data Science Libaries "
   ]
  },
  {
   "cell_type": "markdown",
   "id": "59f2c516-6c13-42f4-9544-573d1346e997",
   "metadata": {},
   "source": [
    "* TensorFlow\n",
    "* NumPy\n",
    "* SciPy \n",
    "* Pandas\n",
    "* Matplotlib \n",
    "* Keras\n",
    "* PyTorch\n"
   ]
  },
  {
   "cell_type": "markdown",
   "id": "92eea315-01e3-435d-96bb-f1b4325c77f7",
   "metadata": {},
   "source": [
    "## Data Science Tools  "
   ]
  },
  {
   "cell_type": "markdown",
   "id": "5db53037-dbf5-4335-823a-f6ccdc6bc1ea",
   "metadata": {},
   "source": [
    "* SAS\n",
    "* Apache Spark \n",
    "* BigML\n",
    "* MATLAB\n",
    "* Excel\n",
    "* ggplot2\n",
    "* Tableau"
   ]
  },
  {
   "cell_type": "markdown",
   "id": "8e0a27bd-c83f-42ab-b697-58fd372df027",
   "metadata": {
    "tags": []
   },
   "source": [
    "## Example of Arithmetic Expression in Python"
   ]
  },
  {
   "cell_type": "code",
   "execution_count": 2,
   "id": "1bd9e238-ba6e-402e-b39c-953d0327eb7e",
   "metadata": {
    "tags": []
   },
   "outputs": [
    {
     "data": {
      "text/plain": [
       "777777"
      ]
     },
     "execution_count": 2,
     "metadata": {},
     "output_type": "execute_result"
    }
   ],
   "source": [
    "123456 + 654321"
   ]
  },
  {
   "cell_type": "markdown",
   "id": "f7fba39c-794a-4011-8289-c162696cc709",
   "metadata": {},
   "source": [
    " ## Multiply and Add Two Numbers"
   ]
  },
  {
   "cell_type": "code",
   "execution_count": 3,
   "id": "50e7056b-ef68-43b5-8c0d-b9cc37a8238e",
   "metadata": {
    "tags": []
   },
   "outputs": [
    {
     "data": {
      "text/plain": [
       "5337669"
      ]
     },
     "execution_count": 3,
     "metadata": {},
     "output_type": "execute_result"
    }
   ],
   "source": [
    "(1234 * 4321) + (1234 + 4321)"
   ]
  },
  {
   "cell_type": "markdown",
   "id": "a49265f4-44ed-40bb-afb3-8334f6d56926",
   "metadata": {},
   "source": [
    "## Convert Minutes to Hours "
   ]
  },
  {
   "cell_type": "code",
   "execution_count": 20,
   "id": "14847304-772c-4b7e-bbd1-9e251344fab5",
   "metadata": {
    "tags": []
   },
   "outputs": [
    {
     "name": "stdout",
     "output_type": "stream",
     "text": [
      "2057613.15\n"
     ]
    }
   ],
   "source": [
    "minutes = float(123456789)\n",
    "hours = float \n",
    "hours = minute / 60 \n",
    "print (hours)"
   ]
  },
  {
   "cell_type": "markdown",
   "id": "761ead58-b969-430f-9cdb-17da5b6bb505",
   "metadata": {},
   "source": [
    "## List of Objectives "
   ]
  },
  {
   "cell_type": "markdown",
   "id": "ca85093a-b2ee-4fb2-9c82-4e03639ff4d6",
   "metadata": {},
   "source": [
    "1. Teach \n",
    "2. Inspire \n",
    "3. Innovate "
   ]
  },
  {
   "cell_type": "markdown",
   "id": "10cbedcb-2892-4ed3-b8e0-6cf8527af84a",
   "metadata": {},
   "source": [
    "### Authors Name <br>\n",
    "Jairo Flores "
   ]
  },
  {
   "cell_type": "code",
   "execution_count": null,
   "id": "1b1c4ef5-5ee8-4a9e-a460-362353f7cb67",
   "metadata": {},
   "outputs": [],
   "source": []
  }
 ],
 "metadata": {
  "kernelspec": {
   "display_name": "Python 3 (ipykernel)",
   "language": "python",
   "name": "python3"
  },
  "language_info": {
   "codemirror_mode": {
    "name": "ipython",
    "version": 3
   },
   "file_extension": ".py",
   "mimetype": "text/x-python",
   "name": "python",
   "nbconvert_exporter": "python",
   "pygments_lexer": "ipython3",
   "version": "3.11.2"
  }
 },
 "nbformat": 4,
 "nbformat_minor": 5
}
